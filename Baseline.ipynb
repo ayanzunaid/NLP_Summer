{
 "cells": [
  {
   "cell_type": "code",
   "execution_count": 11,
   "metadata": {
    "collapsed": false
   },
   "outputs": [
    {
     "data": {
      "text/plain": [
       "(235, 10)"
      ]
     },
     "execution_count": 11,
     "metadata": {},
     "output_type": "execute_result"
    }
   ],
   "source": [
    "import numpy as np\n",
    "dataset = np.loadtxt(\"G:/user_data/user_data/user01/user1_c.txt\",delimiter = \" \")\n",
    "dataset.shape"
   ]
  },
  {
   "cell_type": "code",
   "execution_count": 12,
   "metadata": {
    "collapsed": false
   },
   "outputs": [
    {
     "data": {
      "text/plain": [
       "(235, 4)"
      ]
     },
     "execution_count": 12,
     "metadata": {},
     "output_type": "execute_result"
    }
   ],
   "source": [
    "Y = dataset[:,9]\n",
    "labels = []\n",
    "for l in Y:\n",
    "    if l == 0 :\n",
    "        labels.append([1,0,0,0])\n",
    "    elif l == 1 :\n",
    "        labels.append([0,1,0,0])\n",
    "    elif l == 2 :\n",
    "        labels.append([0,0,1,0])\n",
    "    else :\n",
    "        labels.append([0,0,0,1])\n",
    "labels = np.array(labels,dtype = 'float32')\n",
    "trn = dataset[:,0:9]\n",
    "labels.shape"
   ]
  },
  {
   "cell_type": "code",
   "execution_count": 13,
   "metadata": {
    "collapsed": false
   },
   "outputs": [
    {
     "name": "stdout",
     "output_type": "stream",
     "text": [
      "Epoch 1/20\n",
      "235/235 [==============================] - 0s 2ms/step - loss: 8.5711 - acc: 0.4298\n",
      "Epoch 2/20\n",
      "235/235 [==============================] - 0s 133us/step - loss: 5.4530 - acc: 0.6553\n",
      "Epoch 3/20\n",
      "235/235 [==============================] - 0s 133us/step - loss: 6.5399 - acc: 0.5830\n",
      "Epoch 4/20\n",
      "235/235 [==============================] - 0s 133us/step - loss: 5.9327 - acc: 0.6170\n",
      "Epoch 5/20\n",
      "235/235 [==============================] - 0s 133us/step - loss: 5.9586 - acc: 0.6170\n",
      "Epoch 6/20\n",
      "235/235 [==============================] - 0s 133us/step - loss: 5.8031 - acc: 0.6298\n",
      "Epoch 7/20\n",
      "235/235 [==============================] - 0s 133us/step - loss: 5.8085 - acc: 0.6255\n",
      "Epoch 8/20\n",
      "235/235 [==============================] - 0s 133us/step - loss: 5.8513 - acc: 0.6298\n",
      "Epoch 9/20\n",
      "235/235 [==============================] - 0s 133us/step - loss: 5.4303 - acc: 0.6553\n",
      "Epoch 10/20\n",
      "235/235 [==============================] - 0s 133us/step - loss: 6.0476 - acc: 0.6043\n",
      "Epoch 11/20\n",
      "235/235 [==============================] - 0s 133us/step - loss: 5.8089 - acc: 0.6255\n",
      "Epoch 12/20\n",
      "235/235 [==============================] - 0s 133us/step - loss: 6.1322 - acc: 0.6170\n",
      "Epoch 13/20\n",
      "235/235 [==============================] - 0s 133us/step - loss: 5.8176 - acc: 0.6298\n",
      "Epoch 14/20\n",
      "235/235 [==============================] - 0s 133us/step - loss: 5.2424 - acc: 0.6723\n",
      "Epoch 15/20\n",
      "235/235 [==============================] - 0s 133us/step - loss: 5.7451 - acc: 0.6340\n",
      "Epoch 16/20\n",
      "235/235 [==============================] - 0s 133us/step - loss: 5.6276 - acc: 0.6426\n",
      "Epoch 17/20\n",
      "235/235 [==============================] - 0s 133us/step - loss: 5.5503 - acc: 0.6511\n",
      "Epoch 18/20\n",
      "235/235 [==============================] - 0s 133us/step - loss: 5.7877 - acc: 0.6383\n",
      "Epoch 19/20\n",
      "235/235 [==============================] - 0s 133us/step - loss: 5.5190 - acc: 0.6553\n",
      "Epoch 20/20\n",
      "235/235 [==============================] - 0s 133us/step - loss: 5.2027 - acc: 0.6723\n"
     ]
    },
    {
     "data": {
      "text/plain": [
       "<keras.callbacks.History at 0xbbfc466860>"
      ]
     },
     "execution_count": 13,
     "metadata": {},
     "output_type": "execute_result"
    }
   ],
   "source": [
    "import keras\n",
    "from keras.models import Sequential\n",
    "from keras.layers import Dense,Dropout\n",
    "model = Sequential()\n",
    "\n",
    "model.add(Dense(16, activation='relu', input_dim=9))\n",
    "model.add(Dropout(0.1))\n",
    "model.add(Dense(12, activation='relu'))\n",
    "\n",
    "model.add(Dense(4, activation='softmax'))\n",
    "\n",
    "model.compile(loss='categorical_crossentropy',\n",
    "              optimizer='adam',\n",
    "              metrics=['accuracy'])\n",
    "\n",
    "model.fit(trn, labels,\n",
    "          epochs=20,\n",
    "          batch_size=10)"
   ]
  },
  {
   "cell_type": "code",
   "execution_count": null,
   "metadata": {
    "collapsed": true
   },
   "outputs": [],
   "source": []
  }
 ],
 "metadata": {
  "anaconda-cloud": {},
  "kernelspec": {
   "display_name": "Python [Anaconda3]",
   "language": "python",
   "name": "Python [Anaconda3]"
  },
  "language_info": {
   "codemirror_mode": {
    "name": "ipython",
    "version": 3
   },
   "file_extension": ".py",
   "mimetype": "text/x-python",
   "name": "python",
   "nbconvert_exporter": "python",
   "pygments_lexer": "ipython3",
   "version": "3.5.6"
  }
 },
 "nbformat": 4,
 "nbformat_minor": 0
}
